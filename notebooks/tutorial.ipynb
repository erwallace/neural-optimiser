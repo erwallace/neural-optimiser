{
 "cells": [
  {
   "cell_type": "code",
   "execution_count": 1,
   "metadata": {},
   "outputs": [],
   "source": [
    "# Configure Loguru to INFO in Jupyter\n",
    "import sys\n",
    "from loguru import logger\n",
    "from ase.build import molecule\n",
    "from rdkit import Chem\n",
    "from rdkit.Chem import AllChem\n",
    "\n",
    "from neural_optimiser.optimise import BFGS\n",
    "from neural_optimiser.calculators import RandomCalculator\n",
    "from neural_optimiser.conformers import ConformerBatch, Conformer\n",
    "from neural_optimiser.datasets.base import ConformerDataset, ConformerDataLoader"
   ]
  },
  {
   "cell_type": "code",
   "execution_count": 2,
   "metadata": {},
   "outputs": [
    {
     "data": {
      "text/plain": [
       "1"
      ]
     },
     "execution_count": 2,
     "metadata": {},
     "output_type": "execute_result"
    }
   ],
   "source": [
    "logger.remove()  # avoid duplicate logs across re-runs\n",
    "logger.add(sys.stdout, level=\"INFO\")"
   ]
  },
  {
   "cell_type": "markdown",
   "metadata": {},
   "source": [
    "## Run a Batched BFGS Optimisation"
   ]
  },
  {
   "cell_type": "code",
   "execution_count": 15,
   "metadata": {},
   "outputs": [
    {
     "name": "stdout",
     "output_type": "stream",
     "text": [
      "\u001b[32m2025-10-05 16:52:29.667\u001b[0m | \u001b[1mINFO    \u001b[0m | \u001b[36mneural_optimiser.optimise._bfgs\u001b[0m:\u001b[36m__init__\u001b[0m:\u001b[36m22\u001b[0m - \u001b[1mRunning BFGS optimiser\u001b[0m\n",
      "\u001b[32m2025-10-05 16:52:29.674\u001b[0m | \u001b[1mINFO    \u001b[0m | \u001b[36mneural_optimiser.optimise.base\u001b[0m:\u001b[36mrun\u001b[0m:\u001b[36m73\u001b[0m - \u001b[1mStarting BFGS: nconf=3, natoms=16, steps=100, fmax=0.05, fexit=500.0, max_step=0.04\u001b[0m\n",
      "\u001b[32m2025-10-05 16:52:29.728\u001b[0m | \u001b[1mINFO    \u001b[0m | \u001b[36mneural_optimiser.optimise.base\u001b[0m:\u001b[36m_should_exit\u001b[0m:\u001b[36m283\u001b[0m - \u001b[1mStep limit reached: 100 steps.\u001b[0m\n",
      "\u001b[32m2025-10-05 16:52:29.728\u001b[0m | \u001b[1mINFO    \u001b[0m | \u001b[36mneural_optimiser.optimise.base\u001b[0m:\u001b[36m_run\u001b[0m:\u001b[36m138\u001b[0m - \u001b[1mExiting after step 100: converged=False\u001b[0m\n",
      "\u001b[32m2025-10-05 16:52:29.728\u001b[0m | \u001b[1mINFO    \u001b[0m | \u001b[36mneural_optimiser.optimise.base\u001b[0m:\u001b[36m_finalise_trajectories\u001b[0m:\u001b[36m305\u001b[0m - \u001b[1mFinalized trajectories: nconf=3, converged=0/3.\u001b[0m\n",
      "All Converged: False\n",
      "Conformer 0: Converged: False, On step -1\n",
      "Conformer 1: Converged: False, On step -1\n",
      "Conformer 2: Converged: False, On step -1\n",
      "pos_dt shape: (101, 16, 3)\n",
      "pos_min shape: (16, 3)\n"
     ]
    }
   ],
   "source": [
    "# Create a batch of molecules (each becomes a conformer)\n",
    "atoms_list = [molecule(\"H2O\"), molecule(\"NH3\"), molecule(\"CH3OCH3\")]\n",
    "batch = ConformerBatch.from_ase(atoms_list, device=\"cpu\")\n",
    "\n",
    "# Configure optimiser and attach a calculator that provides forces\n",
    "optimiser = BFGS(steps=100, fmax=0.05, fexit=500.0, max_step=0.04)\n",
    "optimiser.calculator = RandomCalculator()\n",
    "\n",
    "# Run optimisation\n",
    "converged = optimiser.run(batch)\n",
    "print(\"All Converged:\", converged)\n",
    "for i, (conv, nsteps) in enumerate(zip(batch.converged, batch.converged_step)):\n",
    "    print(f\"Conformer {i}: Converged: {conv}, On step {nsteps}\")\n",
    "\n",
    "# Trajectory [T, N, 3] and converged coordinates [N, 3]\n",
    "print(\"pos_dt shape:\", tuple(batch.pos_dt.shape))\n",
    "print(\"pos_min shape:\", tuple(batch.pos_min.shape))"
   ]
  },
  {
   "cell_type": "code",
   "execution_count": 16,
   "metadata": {},
   "outputs": [
    {
     "data": {
      "image/jpeg": "[encoded data removed]",
      "image/png": "[encoded data removed]",
      "text/plain": [
       "<PIL.PngImagePlugin.PngImageFile image mode=RGB size=300x300>"
      ]
     },
     "execution_count": 16,
     "metadata": {},
     "output_type": "execute_result"
    }
   ],
   "source": [
    "# View the first and last step of the first conformer\n",
    "initial = batch.conformer(idx=2, step=0).plot(dim=3)\n",
    "initial"
   ]
  },
  {
   "cell_type": "code",
   "execution_count": 17,
   "metadata": {},
   "outputs": [
    {
     "data": {
      "image/jpeg": "[encoded data removed]",
      "image/png": "[encoded data removed]",
      "text/plain": [
       "<PIL.PngImagePlugin.PngImageFile image mode=RGB size=300x300>"
      ]
     },
     "execution_count": 17,
     "metadata": {},
     "output_type": "execute_result"
    }
   ],
   "source": [
    "final = batch.conformer(idx=2, step=-1).plot(dim=3)\n",
    "final"
   ]
  },
  {
   "cell_type": "markdown",
   "metadata": {},
   "source": [
    "## Run a Larger BFGS Optimisation using the ConformerDataLoader"
   ]
  },
  {
   "cell_type": "code",
   "execution_count": null,
   "metadata": {},
   "outputs": [],
   "source": [
    "# Build a pool of conformers from RDKit molecules\n",
    "smiles_list = [\"CCO\", \"CC\", \"CCN\"]\n",
    "mols = []\n",
    "for smiles in smiles_list:\n",
    "    m = Chem.AddHs(Chem.MolFromSmiles(smiles))\n",
    "    AllChem.EmbedMultipleConfs(m, numConfs=10, useExpTorsionAnglePrefs=True, useBasicKnowledge=True)\n",
    "    mols.append(m)\n",
    "\n",
    "big_batch = ConformerBatch.from_rdkit(mols)  # creates one Conformer per RDKit conformer\n",
    "\n",
    "# Dataset/DataLoader -> yields ConformerBatch\n",
    "dataset = ConformerDataset([big_batch.conformer(i) for i in range(big_batch.n_conformers)])\n",
    "dataloader = ConformerDataLoader(dataset, batch_size=8, device=\"cpu\", shuffle=True, num_workers=0)\n",
    "\n",
    "# Configure optimiser and attach a calculator that provides forces\n",
    "optimiser = BFGS(steps=10, fmax=0.05, fexit=500.0, max_step=0.04)\n",
    "optimiser.calculator = RandomCalculator()\n",
    "\n",
    "for batch in dataloader:\n",
    "    optimiser.run(batch) "
   ]
  },
  {
   "cell_type": "markdown",
   "metadata": {},
   "source": [
    "## Data Containers"
   ]
  },
  {
   "cell_type": "markdown",
   "metadata": {},
   "source": [
    "### Conformers"
   ]
  },
  {
   "cell_type": "code",
   "execution_count": 18,
   "metadata": {},
   "outputs": [
    {
     "name": "stdout",
     "output_type": "stream",
     "text": [
      "Conformer\n",
      "atom_types: torch.Size([3])\n",
      "pos: torch.Size([3, 3])\n",
      "smiles: O\n",
      "ASE atoms: H2O (3, 3)\n"
     ]
    }
   ],
   "source": [
    "# From ASE\n",
    "atoms = molecule(\"H2O\")\n",
    "conf1 = Conformer.from_ase(atoms, smiles=\"O\")\n",
    "\n",
    "print(type(conf1).__name__)\n",
    "print(\"atom_types:\", conf1.atom_types.shape)  # [n_atoms]\n",
    "print(\"pos:\", conf1.pos.shape)                # [n_atoms, 3]\n",
    "print(\"smiles:\", conf1.smiles)\n",
    "\n",
    "# Convert back to ASE\n",
    "atoms2 = conf1.to_ase()\n",
    "print(\"ASE atoms:\", atoms2.get_chemical_formula(), atoms2.positions.shape)"
   ]
  },
  {
   "cell_type": "code",
   "execution_count": 19,
   "metadata": {},
   "outputs": [
    {
     "name": "stdout",
     "output_type": "stream",
     "text": [
      "RDKit confs: 1\n"
     ]
    }
   ],
   "source": [
    "# From RDKit\n",
    "mol = Chem.MolFromSmiles(\"CCO\")\n",
    "mol = Chem.AddHs(mol)\n",
    "AllChem.EmbedMolecule(mol, AllChem.ETKDG())\n",
    "conf2 = Conformer.from_rdkit(mol)\n",
    "\n",
    "# Convert back to RDKit (returns a Mol with one 3D conformer)\n",
    "mol2 = conf2.to_rdkit()\n",
    "print(\"RDKit confs:\", mol2.GetNumConformers())"
   ]
  },
  {
   "cell_type": "code",
   "execution_count": 20,
   "metadata": {},
   "outputs": [
    {
     "data": {
      "image/jpeg": "[encoded data removed]",
      "image/png": "[encoded data removed]",
      "text/plain": [
       "<PIL.PngImagePlugin.PngImageFile image mode=RGB size=300x300>"
      ]
     },
     "execution_count": 20,
     "metadata": {},
     "output_type": "execute_result"
    }
   ],
   "source": [
    "conf2.plot(dim=2)"
   ]
  },
  {
   "cell_type": "code",
   "execution_count": 21,
   "metadata": {},
   "outputs": [
    {
     "data": {
      "image/jpeg": "[encoded data removed]",
      "image/png": "[encoded data removed]",
      "text/plain": [
       "<PIL.PngImagePlugin.PngImageFile image mode=RGB size=300x300>"
      ]
     },
     "execution_count": 21,
     "metadata": {},
     "output_type": "execute_result"
    }
   ],
   "source": [
    "conf2.plot(dim=3)"
   ]
  },
  {
   "cell_type": "markdown",
   "metadata": {},
   "source": [
    "### ConformerBatch"
   ]
  },
  {
   "cell_type": "code",
   "execution_count": 22,
   "metadata": {},
   "outputs": [
    {
     "name": "stdout",
     "output_type": "stream",
     "text": [
      "ASE batch: 3 3 12\n",
      "conf0 pos: torch.Size([3, 3])\n",
      "batch index shape: torch.Size([12])\n",
      "molecule_idxs shape: torch.Size([12])\n"
     ]
    }
   ],
   "source": [
    "# Build from ASE\n",
    "atoms_list = [molecule(\"H2O\"), molecule(\"NH3\"), molecule(\"CH4\")]\n",
    "batch_ase = ConformerBatch.from_ase(atoms_list, device=\"cpu\")\n",
    "print(\"ASE batch:\", batch_ase.n_molecules, batch_ase.n_conformers, batch_ase.n_atoms)\n",
    "\n",
    "# Slice a single conformer view\n",
    "conf0 = batch_ase.conformer(0)\n",
    "print(\"conf0 pos:\", conf0.pos.shape)\n",
    "\n",
    "# Indices available on the batch (per-atom)\n",
    "print(\"batch index shape:\", batch_ase.batch.shape)\n",
    "print(\"molecule_idxs shape:\", batch_ase.molecule_idxs.shape)"
   ]
  },
  {
   "cell_type": "code",
   "execution_count": 23,
   "metadata": {},
   "outputs": [
    {
     "name": "stdout",
     "output_type": "stream",
     "text": [
      "RDKit batch: 2 2 12\n",
      "Data list batch: 2 2 7\n"
     ]
    }
   ],
   "source": [
    "# Build from RDKit (multiple conformers per molecule also supported)\n",
    "def rdkit_with_coords(smiles: str):\n",
    "    m = Chem.MolFromSmiles(smiles)\n",
    "    m = Chem.AddHs(m)\n",
    "    AllChem.EmbedMolecule(m, AllChem.ETKDG())\n",
    "    return m\n",
    "\n",
    "mol_list = [rdkit_with_coords(\"O\"), rdkit_with_coords(\"CCO\")]\n",
    "batch_rd = ConformerBatch.from_rdkit(mol_list, device=\"cpu\")\n",
    "print(\"RDKit batch:\", batch_rd.n_molecules, batch_rd.n_conformers, batch_rd.n_atoms)\n",
    "\n",
    "# Build from a list of Conformer objects\n",
    "c1 = Conformer.from_ase(molecule(\"H2O\"))\n",
    "c2 = Conformer.from_ase(molecule(\"NH3\"))\n",
    "batch_list = ConformerBatch.from_data_list([c1, c2], device=\"cpu\")\n",
    "print(\"Data list batch:\", batch_list.n_molecules, batch_list.n_conformers, batch_list.n_atoms)"
   ]
  },
  {
   "cell_type": "code",
   "execution_count": null,
   "metadata": {},
   "outputs": [],
   "source": []
  }
 ],
 "metadata": {
  "kernelspec": {
   "display_name": "bfgs",
   "language": "python",
   "name": "python3"
  },
  "language_info": {
   "codemirror_mode": {
    "name": "ipython",
    "version": 3
   },
   "file_extension": ".py",
   "mimetype": "text/x-python",
   "name": "python",
   "nbconvert_exporter": "python",
   "pygments_lexer": "ipython3",
   "version": "3.11.13"
  }
 },
 "nbformat": 4,
 "nbformat_minor": 2
}
